{
 "cells": [
  {
   "cell_type": "markdown",
   "metadata": {},
   "source": [
    "## Предсказание сердечно-сосудистых заболеваний"
   ]
  },
  {
   "cell_type": "code",
   "execution_count": 1,
   "metadata": {},
   "outputs": [
    {
     "name": "stdout",
     "output_type": "stream",
     "text": [
      "Train shape (70000, 13)\n",
      "Test shape (30000, 12)\n"
     ]
    }
   ],
   "source": [
    "from sklearn.metrics import log_loss\n",
    "import pandas as pd\n",
    "import numpy as np\n",
    "import matplotlib.pyplot as plt\n",
    "%matplotlib inline\n",
    "import seaborn as sns\n",
    "sns.set()\n",
    "from sklearn.ensemble import RandomForestClassifier\n",
    "from sklearn.model_selection import train_test_split\n",
    "from sklearn.metrics import log_loss\n",
    "pd.set_option('display.max_columns', 150)\n",
    "pd.set_option('display.max_rows', 150)\n",
    "\n",
    "train = pd.read_csv('train.csv', sep=';', na_values='None')\n",
    "test = pd.read_csv('test.csv', sep=';', na_values='None')\n",
    "print('Train shape {}'.format(train.shape))\n",
    "print('Test shape {}'.format(test.shape))"
   ]
  },
  {
   "cell_type": "code",
   "execution_count": 2,
   "metadata": {},
   "outputs": [],
   "source": [
    "# Добавляем новый признак - Возраст в годах \n",
    "train['age_in_years'] = round(train.age / 365, 2)\n",
    "test['age_in_years'] = round(test.age / 365, 2)\n",
    "\n",
    "# Удаляем возраст в днях\n",
    "train.drop(['age'], axis=1, inplace=True)\n",
    "test.drop(['age'], axis=1, inplace=True)"
   ]
  },
  {
   "cell_type": "markdown",
   "metadata": {},
   "source": [
    "#### Fill NaNs in test"
   ]
  },
  {
   "cell_type": "code",
   "execution_count": 3,
   "metadata": {},
   "outputs": [],
   "source": [
    "test[test['smoke'].isna()] # smoke, alco, active\n",
    "\n",
    "test['smoke'].fillna(0, inplace=True)\n",
    "test['alco'].fillna(0, inplace=True)\n",
    "test['active'].fillna(1, inplace=True)"
   ]
  },
  {
   "cell_type": "markdown",
   "metadata": {},
   "source": [
    "### Заменяем неверные значения фичей ap_lo, ap_hi"
   ]
  },
  {
   "cell_type": "code",
   "execution_count": 4,
   "metadata": {},
   "outputs": [],
   "source": [
    "train.loc[1876,'ap_hi'] = 90\n",
    "train.loc[2014,'ap_hi'] = 90\n",
    "train.loc[2014,'ap_lo'] = 60\n",
    "train.loc[4817,'ap_hi'] = 90\n",
    "train.loc[7763,'ap_hi'] = 115\n",
    "train.loc[8915,'ap_hi'] = 142\n",
    "train.loc[9557,'ap_hi'] = 170\n",
    "train.loc[13895,'ap_hi'] = 150\n",
    "train.loc[17713,'ap_hi'] = 90\n",
    "train.loc[23867,'ap_hi'] = 90\n",
    "train.loc[23867,'ap_lo'] = 60\n",
    "train.loc[25464,'ap_hi'] = 140\n",
    "train.loc[25519,'ap_hi'] = 140\n",
    "train.loc[25780,'ap_hi'] = 140\n",
    "train.loc[28147,'ap_hi'] = 162\n",
    "train.loc[29665,'ap_hi'] = 90\n",
    "train.loc[31783,'ap_hi'] = 90\n",
    "train.loc[31783,'ap_lo'] = 70\n",
    "train.loc[36894,'ap_hi'] = 130\n",
    "train.loc[40330,'ap_hi'] = 130\n",
    "train.loc[40330,'ap_lo'] = 90\n",
    "train.loc[40831,'ap_hi'] = 140\n",
    "train.loc[40852,'ap_hi'] = 160\n",
    "train.loc[41095,'ap_hi'] = 120\n",
    "train.loc[41505,'ap_hi'] = 80\n",
    "train.loc[41505,'ap_lo'] = 60\n",
    "train.loc[42397,'ap_hi'] = 90\n",
    "train.loc[42397,'ap_lo'] = 60\n",
    "train.loc[42658,'ap_hi'] = 90\n",
    "train.loc[43133,'ap_hi'] = 140\n",
    "train.loc[43208,'ap_hi'] = 142\n",
    "train.loc[43504,'ap_hi'] = 130\n",
    "train.loc[46912,'ap_hi'] = 140\n",
    "train.loc[47253,'ap_hi'] = 140\n",
    "train.loc[48795,'ap_hi'] = 140\n",
    "train.loc[50836,'ap_hi'] = 140\n",
    "train.loc[51438,'ap_hi'] = 110\n",
    "train.loc[53982,'ap_hi'] = 96\n",
    "train.loc[55459,'ap_hi'] = 130\n",
    "train.loc[55847,'ap_hi'] = 130\n",
    "train.loc[57291,'ap_hi'] = 130\n",
    "train.loc[57918,'ap_hi'] = 110\n",
    "train.loc[63996,'ap_hi'] = 120\n",
    "train.loc[64911,'ap_hi'] = 90\n",
    "train.loc[68663,'ap_hi'] = 90\n",
    "train.loc[68663,'ap_lo'] = 60\n",
    "train.loc[69370,'ap_hi'] = 200"
   ]
  },
  {
   "cell_type": "code",
   "execution_count": 5,
   "metadata": {},
   "outputs": [],
   "source": [
    "train.loc[2142, 'ap_lo'] = 110\n",
    "train.loc[7598, 'ap_lo'] = 80\n",
    "train.loc[9777, 'ap_lo'] = 80\n",
    "train.loc[10106, 'ap_lo'] = 100\n",
    "train.loc[13489, 'ap_lo'] = 80\n",
    "train.loc[16459, 'ap_lo'] = 90\n",
    "train.loc[17381, 'ap_lo'] = 90\n",
    "train.loc[18898, 'ap_lo'] = 70\n",
    "train.loc[19075, 'ap_lo'] = 70\n",
    "train.loc[22923, 'ap_lo'] = 95\n",
    "train.loc[25454, 'ap_hi'] = 120\n",
    "train.loc[26513, 'ap_hi'] = 160\n",
    "train.loc[26513, 'ap_lo'] = 100\n",
    "train.loc[27686, 'ap_lo'] = 90\n",
    "train.loc[28065, 'ap_lo'] = 60\n",
    "train.loc[35140, 'ap_lo'] = 85\n",
    "train.loc[35369, 'ap_lo'] = 110\n",
    "train.loc[37169, 'ap_lo'] = 110\n",
    "train.loc[38370, 'ap_lo'] = 90\n",
    "train.loc[38599, 'ap_lo'] = 90\n",
    "train.loc[42086, 'ap_lo'] = 110\n",
    "train.loc[43307, 'ap_lo'] = 110\n",
    "train.loc[43575, 'ap_lo'] = 120\n",
    "train.loc[43922, 'ap_lo'] = 80\n",
    "train.loc[45050, 'ap_lo'] = 120\n",
    "train.loc[45835, 'ap_lo'] = 90\n",
    "train.loc[47711, 'ap_lo'] = 90\n",
    "train.loc[48049, 'ap_lo'] = 80\n",
    "train.loc[52580, 'ap_hi'] = 130\n",
    "train.loc[52580, 'ap_lo'] = 85\n",
    "train.loc[52851, 'ap_hi'] = 120\n",
    "train.loc[52851, 'ap_lo'] = 80\n",
    "train.loc[56950, 'ap_lo'] = 80\n",
    "train.loc[60106, 'ap_hi'] = 150\n",
    "train.loc[60106, 'ap_lo'] = 95\n",
    "train.loc[63787, 'ap_lo'] = 60\n",
    "train.loc[64068, 'ap_lo'] = 100\n",
    "train.loc[65303, 'ap_lo'] = 80\n",
    "train.loc[66108, 'ap_lo'] = 140\n",
    "train.loc[68568, 'ap_lo'] = 60"
   ]
  },
  {
   "cell_type": "code",
   "execution_count": 6,
   "metadata": {},
   "outputs": [],
   "source": [
    "test.loc[303, 'ap_hi'] = 140\n",
    "test.loc[1685, 'ap_hi'] = 110\n",
    "test.loc[1707, 'ap_lo'] = 130\n",
    "test.loc[2443, 'ap_hi'] = 160\n",
    "test.loc[2443, 'ap_lo'] = 100\n",
    "test.loc[5176, 'ap_hi'] = 120\n",
    "test.loc[6400, 'ap_hi'] = 160\n",
    "test.loc[6400, 'ap_lo'] = 100\n",
    "test.loc[6870, 'ap_lo'] = 70\n",
    "test.loc[6958, 'ap_hi'] = 110\n",
    "\n",
    "test.loc[7463, 'ap_hi'] = 100\n",
    "test.loc[7638, 'ap_lo'] = 100\n",
    "test.loc[7755, 'ap_hi'] = 140\n",
    "test.loc[7906, 'ap_lo'] = 80\n",
    "test.loc[8295, 'ap_hi'] = 170\n",
    "test.loc[8295, 'ap_lo'] = 105\n",
    "test.loc[8852, 'ap_hi'] = 120\n",
    "test.loc[9262, 'ap_hi'] = 100\n",
    "test.loc[9399, 'ap_hi'] = 140\n",
    "test.loc[10566, 'ap_hi'] = 150\n",
    "test.loc[11068, 'ap_lo'] = 90\n",
    "test.loc[12852, 'ap_hi'] = 130\n",
    "test.loc[12852, 'ap_lo'] = 85\n",
    "test.loc[13138, 'ap_hi'] = 100\n",
    "test.loc[13138, 'ap_lo'] = 60\n",
    "test.loc[13449, 'ap_hi'] = 140\n",
    "test.loc[13563, 'ap_hi'] = 140\n",
    "test.loc[14449, 'ap_hi'] = 150\n",
    "test.loc[15437, 'ap_lo'] = 70\n",
    "test.loc[15457, 'ap_lo'] = 180\n",
    "test.loc[16009, 'ap_lo'] = 60\n",
    "test.loc[17093, 'ap_lo'] = 80\n",
    "test.loc[18547, 'ap_hi'] = 160\n",
    "\n",
    "test.loc[18857, 'ap_hi'] = 150\n",
    "test.loc[18857, 'ap_lo'] = 100\n",
    "test.loc[20074, 'ap_lo'] = 80\n",
    "test.loc[24125, 'ap_lo'] = 90\n",
    "test.loc[24391, 'ap_hi'] = 120\n",
    "test.loc[24538, 'ap_lo'] = 80\n",
    "test.loc[26009, 'ap_lo'] = 100\n",
    "test.loc[26412, 'ap_hi'] = 100\n",
    "test.loc[26877, 'ap_lo'] = 70\n",
    "test.loc[27148, 'ap_lo'] = 90\n",
    "test.loc[29327, 'ap_lo'] = 80\n",
    "test.loc[29884, 'ap_lo'] = 100\n",
    "test.loc[29982, 'ap_hi'] = 190\n",
    "test.loc[29982, 'ap_lo'] = 100"
   ]
  },
  {
   "cell_type": "markdown",
   "metadata": {},
   "source": [
    "### Проверим распредление фичей"
   ]
  },
  {
   "cell_type": "code",
   "execution_count": 7,
   "metadata": {},
   "outputs": [],
   "source": [
    "y = train['cardio']\n",
    "train_data = train.drop(['cardio'], axis=1)\n",
    "data = pd.concat([train_data, test], ignore_index=True)"
   ]
  },
  {
   "cell_type": "code",
   "execution_count": 8,
   "metadata": {},
   "outputs": [],
   "source": [
    "# Посмотрим на данные у которых рост и вес совпадают с давлением. Скорее всего значения ошибочные\n",
    "\n",
    "index1 = list(data[(data['height'] == data['ap_hi']) & (data['weight'] == data['ap_lo'])].index)\n",
    "\n",
    "# Средние значения веса для мужчины и женщины\n",
    "man_weight = train[train['gender'] == 2]['weight'].mean()\n",
    "woman_weight = train[train['gender'] == 1]['weight'].mean()\n",
    "# Средние значения роста для мужчины и женщины\n",
    "man_height = train[train['gender'] == 2]['height'].mean()\n",
    "woman_height = train[train['gender'] == 1]['height'].mean()\n",
    "\n",
    "for ind in index1:\n",
    "    gender = data.loc[ind, 'gender'] # '2' - man, '1' - woman.\n",
    "    if gender == 1:\n",
    "        data.loc[ind, 'weight'] = woman_weight\n",
    "        data.loc[ind, 'height'] = woman_height\n",
    "    else:\n",
    "        data.loc[ind, 'weight'] = man_weight\n",
    "        data.loc[ind, 'height'] = man_height"
   ]
  },
  {
   "cell_type": "code",
   "execution_count": 9,
   "metadata": {},
   "outputs": [],
   "source": [
    "data.loc[8171, 'height'] = 170\n",
    "data.loc[8171, 'weight'] = 97\n",
    "data.loc[88312, 'height'] = 173\n",
    "data.loc[88312, 'weight'] = 87\n",
    "index2 = list(data[(data['height'] < 100) & (data['gender'] == 2) & (data['weight'] > 40)].index)\n",
    "for ind in index2:\n",
    "    data.loc[ind, 'height'] = data.loc[ind, 'height'] + 100"
   ]
  },
  {
   "cell_type": "code",
   "execution_count": 10,
   "metadata": {},
   "outputs": [],
   "source": [
    "# меняем местами рост и вес\n",
    "data.loc[12770, 'weight'] = 75\n",
    "data.loc[12770, 'height'] = 168\n",
    "data.loc[23913, 'height'] = 156\n",
    "data.loc[23913, 'weight'] = 81\n",
    "data.loc[27384, 'height'] = 178\n",
    "data.loc[27384, 'weight'] = 80\n",
    "data.loc[70730, 'height'] = 183\n",
    "data.loc[70730, 'weight'] = 58\n",
    "data.loc[85109, 'height'] = 155\n",
    "data.loc[85109, 'weight'] = 60\n",
    "\n",
    "index3 = list(data[(data['gender'] == 1) & (data['height'] < 100)].index)\n",
    "for ind in index3:\n",
    "    data.loc[ind, 'height'] = data.loc[ind, 'height'] + 100"
   ]
  },
  {
   "cell_type": "code",
   "execution_count": 11,
   "metadata": {},
   "outputs": [],
   "source": [
    "index4 = list(data[(data['height'] < 130) & (data['height'] % 10 == 0.0) & (data['weight'] % 10 == 0)].index)\n",
    "# data[(data['height'] < 130) & (data['height'] % 10 == 0.0)]\n",
    "for ind in index4:\n",
    "    gender = data.loc[ind, 'gender'] # '2' - man, '1' - woman.\n",
    "    if gender == 1:\n",
    "        data.loc[ind, 'weight'] = woman_weight\n",
    "        data.loc[ind, 'height'] = woman_height\n",
    "    else:\n",
    "        data.loc[ind, 'weight'] = man_weight\n",
    "        data.loc[ind, 'height'] = man_height"
   ]
  },
  {
   "cell_type": "code",
   "execution_count": 12,
   "metadata": {},
   "outputs": [],
   "source": [
    "index5 = list(data[(data['height'] < 140) & (data['height'] < data['weight'])].index)\n",
    "for ind in index5:\n",
    "    h = data.loc[ind, 'weight']\n",
    "    w = data.loc[ind, 'height']\n",
    "    data.loc[ind, 'weight'] = w\n",
    "    data.loc[ind, 'height'] = h"
   ]
  },
  {
   "cell_type": "code",
   "execution_count": 13,
   "metadata": {},
   "outputs": [],
   "source": [
    "# data[data['weight'] > 180]\n",
    "data.loc[6486, 'height'] = 150\n",
    "data.loc[435, 'height'] = 200\n",
    "data.loc[435, 'weight'] = 186\n",
    "data.loc[36780, 'height'] = 181\n",
    "data.loc[36780, 'weight'] = 161\n",
    "data.loc[50413, 'height'] = 200\n",
    "data.loc[50413, 'weight'] = 180\n",
    "data.loc[61285, 'weight'] = 83"
   ]
  },
  {
   "cell_type": "code",
   "execution_count": 14,
   "metadata": {},
   "outputs": [
    {
     "data": {
      "text/plain": [
       "Text(0, 0.5, 'height woman')"
      ]
     },
     "execution_count": 14,
     "metadata": {},
     "output_type": "execute_result"
    },
    {
     "data": {
      "image/png": "[encoded data removed]",
      "text/plain": [
       "<Figure size 432x288 with 1 Axes>"
      ]
     },
     "metadata": {},
     "output_type": "display_data"
    }
   ],
   "source": [
    "plt.scatter(data[data['gender'] == 1]['weight'], data[data['gender'] == 1]['height'])\n",
    "plt.xlabel('weight woman')\n",
    "plt.ylabel('height woman')"
   ]
  },
  {
   "cell_type": "markdown",
   "metadata": {},
   "source": [
    "### Feature engineering"
   ]
  },
  {
   "cell_type": "code",
   "execution_count": 15,
   "metadata": {},
   "outputs": [],
   "source": [
    "data['high_low'] = data['ap_hi'] - data['ap_lo']\n",
    "data['high_low'] = data['ap_hi'] - data['ap_lo']"
   ]
  },
  {
   "cell_type": "code",
   "execution_count": 16,
   "metadata": {},
   "outputs": [],
   "source": [
    "# IMT = масса / рост в метрах ** 2\n",
    "data['imt'] = data['weight'] / (data['height'] / 100) ** 2\n",
    "data['imt'] = data['weight'] / (data['height'] / 100) ** 2"
   ]
  },
  {
   "cell_type": "code",
   "execution_count": 19,
   "metadata": {},
   "outputs": [],
   "source": [
    "train = data[:70000]\n",
    "test = data[70000:]\n",
    "X = train\n",
    "\n",
    "from sklearn.model_selection import train_test_split\n",
    "\n",
    "X_train, X_test, y_train, y_test = train_test_split(X, y, test_size = 0.25)\n"
   ]
  },
  {
   "cell_type": "code",
   "execution_count": 20,
   "metadata": {},
   "outputs": [
    {
     "name": "stdout",
     "output_type": "stream",
     "text": [
      "Start cross validation\n",
      "Best number of trees = 63\n",
      "Fit on the trainings data\n",
      "Overall logloss: 0.5249009853801911\n",
      "Predict the probabilities based on features in the test set\n"
     ]
    }
   ],
   "source": [
    "import xgboost as xgb\n",
    "from xgboost import XGBClassifier\n",
    "xgtrain = xgb.DMatrix(X_train, label=y_train)\n",
    "\n",
    "clf = XGBClassifier(learning_rate = 0.1, n_estimators=1000, max_depth=5, min_child_weight=1,\n",
    "                    gamma=0, subsample=0.8, colsample_bytree=0.8, objective = 'binary:logistic',\n",
    "                    nthread=4, scale_pos_weight=1)\n",
    "\n",
    "xgb_param = clf.get_xgb_params()\n",
    "\n",
    "# do cross validation\n",
    "print ('Start cross validation')\n",
    "cvresult = xgb.cv(xgb_param, xgtrain, num_boost_round = 5000, nfold=20, metrics=['logloss'],\n",
    "     early_stopping_rounds=50, stratified=True)\n",
    "print('Best number of trees = {}'.format(cvresult.shape[0]))\n",
    "clf.set_params(n_estimators=cvresult.shape[0])\n",
    "print('Fit on the trainings data')\n",
    "clf.fit(X_train, y_train, eval_metric='logloss')\n",
    "print('Overall logloss:', log_loss(y_train, clf.predict_proba(X_train)[:,1]))\n",
    "print('Predict the probabilities based on features in the test set')\n",
    "pred = clf.predict_proba(test, ntree_limit=cvresult.shape[0])"
   ]
  },
  {
   "cell_type": "code",
   "execution_count": 22,
   "metadata": {},
   "outputs": [],
   "source": [
    "example = pd.read_csv('ml5example.csv', header=None)\n",
    "example.loc[:,0] = pred[:,0]\n",
    "example.to_csv('submit0.csv', header=False, index=False)"
   ]
  },
  {
   "cell_type": "code",
   "execution_count": null,
   "metadata": {},
   "outputs": [],
   "source": []
  }
 ],
 "metadata": {
  "kernelspec": {
   "display_name": "Python 3",
   "language": "python",
   "name": "python3"
  },
  "language_info": {
   "codemirror_mode": {
    "name": "ipython",
    "version": 3
   },
   "file_extension": ".py",
   "mimetype": "text/x-python",
   "name": "python",
   "nbconvert_exporter": "python",
   "pygments_lexer": "ipython3",
   "version": "3.7.6"
  }
 },
 "nbformat": 4,
 "nbformat_minor": 4
}
